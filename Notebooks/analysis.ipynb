{
 "cells": [
  {
   "cell_type": "markdown",
   "source": [
    "## Imports"
   ],
   "metadata": {
    "collapsed": false
   }
  },
  {
   "cell_type": "code",
   "execution_count": 31,
   "metadata": {
    "collapsed": true,
    "ExecuteTime": {
     "end_time": "2023-06-06T02:54:20.068393Z",
     "start_time": "2023-06-06T02:54:20.065746Z"
    }
   },
   "outputs": [],
   "source": [
    "import pandas as pd"
   ]
  },
  {
   "cell_type": "markdown",
   "source": [
    "## Create DataFrames"
   ],
   "metadata": {
    "collapsed": false
   }
  },
  {
   "cell_type": "code",
   "execution_count": 32,
   "outputs": [
    {
     "data": {
      "text/plain": "       date_sold                                               name  \\\n0     2023-06-04  2018 Topps  Trayce Thompson #654 Los Angeles D...   \n1     2023-06-04  2022 TOPPS STADIUM CLUB CHROME BASEBALL TEOSCA...   \n2     2023-06-04  ANDRE DAWSON RC 1977 Topps Baseball Rookie Car...   \n3     2023-06-04  2022 Bowman Chrome Hunter Greene RC Rookie Bas...   \n4     2023-06-04  RYAN BRAUN 2007 TRI STAR MLB BASEBALL CERTIFIE...   \n...          ...                                                ...   \n10015 2023-06-04  2001 Donruss Stat Line Career Anaheim Angels B...   \n10016 2023-06-04  1998 Donruss Gold Press Proofs Anaheim Angels ...   \n10017 2023-06-04  1997 Circa Rave California Angels Baseball Car...   \n10018 2023-06-04  1998 Studio Gold Press Proofs Anaheim Angels B...   \n10019 2023-06-04  2006 Topps '52 Chrome Refractors Angels Baseba...   \n\n                                                    link  condition  price  \\\n0      https://www.ebay.com/itm/314513670222?hash=ite...  Pre-Owned   1.50   \n1      https://www.ebay.com/itm/275854921357?hash=ite...       None   0.99   \n2      https://www.ebay.com/itm/304960085874?epid=505...       None   8.50   \n3      https://www.ebay.com/itm/235029565751?hash=ite...  Pre-Owned   0.99   \n4      https://www.ebay.com/itm/175712878924?hash=ite...       None   9.98   \n...                                                  ...        ...    ...   \n10015  https://www.ebay.com/itm/166047453270?epid=140...       None   2.10   \n10016  https://www.ebay.com/itm/314549288780?hash=ite...       None   4.80   \n10017  https://www.ebay.com/itm/314549469284?hash=ite...       None   9.60   \n10018  https://www.ebay.com/itm/363442394798?hash=ite...       None   2.50   \n10019  https://www.ebay.com/itm/364226903432?hash=ite...       None   3.00   \n\n       num_bids  shipping     seller_username  seller_num_reviews  \\\n0           NaN      0.00     youngstreet1028                4191   \n1           2.0      0.99        kidder.cards                2659   \n2           6.0      1.10            burker72                3735   \n3           1.0      0.60          best-value                  64   \n4           NaN      0.00       tgsportscards                9389   \n...         ...       ...                 ...                 ...   \n10015       NaN      0.99  burbanksportscards              459146   \n10016       NaN      0.99  burbanksportscards              459146   \n10017       NaN      0.99  burbanksportscards              459146   \n10018       NaN      0.99  burbanksportscards              459146   \n10019       NaN      0.99  burbanksportscards              459146   \n\n       seller_pct_positive_feedback  \n0                             1.000  \n1                             1.000  \n2                             1.000  \n3                             1.000  \n4                             1.000  \n...                             ...  \n10015                         0.996  \n10016                         0.996  \n10017                         0.996  \n10018                         0.996  \n10019                         0.996  \n\n[10020 rows x 10 columns]",
      "text/html": "<div>\n<style scoped>\n    .dataframe tbody tr th:only-of-type {\n        vertical-align: middle;\n    }\n\n    .dataframe tbody tr th {\n        vertical-align: top;\n    }\n\n    .dataframe thead th {\n        text-align: right;\n    }\n</style>\n<table border=\"1\" class=\"dataframe\">\n  <thead>\n    <tr style=\"text-align: right;\">\n      <th></th>\n      <th>date_sold</th>\n      <th>name</th>\n      <th>link</th>\n      <th>condition</th>\n      <th>price</th>\n      <th>num_bids</th>\n      <th>shipping</th>\n      <th>seller_username</th>\n      <th>seller_num_reviews</th>\n      <th>seller_pct_positive_feedback</th>\n    </tr>\n  </thead>\n  <tbody>\n    <tr>\n      <th>0</th>\n      <td>2023-06-04</td>\n      <td>2018 Topps  Trayce Thompson #654 Los Angeles D...</td>\n      <td>https://www.ebay.com/itm/314513670222?hash=ite...</td>\n      <td>Pre-Owned</td>\n      <td>1.50</td>\n      <td>NaN</td>\n      <td>0.00</td>\n      <td>youngstreet1028</td>\n      <td>4191</td>\n      <td>1.000</td>\n    </tr>\n    <tr>\n      <th>1</th>\n      <td>2023-06-04</td>\n      <td>2022 TOPPS STADIUM CLUB CHROME BASEBALL TEOSCA...</td>\n      <td>https://www.ebay.com/itm/275854921357?hash=ite...</td>\n      <td>None</td>\n      <td>0.99</td>\n      <td>2.0</td>\n      <td>0.99</td>\n      <td>kidder.cards</td>\n      <td>2659</td>\n      <td>1.000</td>\n    </tr>\n    <tr>\n      <th>2</th>\n      <td>2023-06-04</td>\n      <td>ANDRE DAWSON RC 1977 Topps Baseball Rookie Car...</td>\n      <td>https://www.ebay.com/itm/304960085874?epid=505...</td>\n      <td>None</td>\n      <td>8.50</td>\n      <td>6.0</td>\n      <td>1.10</td>\n      <td>burker72</td>\n      <td>3735</td>\n      <td>1.000</td>\n    </tr>\n    <tr>\n      <th>3</th>\n      <td>2023-06-04</td>\n      <td>2022 Bowman Chrome Hunter Greene RC Rookie Bas...</td>\n      <td>https://www.ebay.com/itm/235029565751?hash=ite...</td>\n      <td>Pre-Owned</td>\n      <td>0.99</td>\n      <td>1.0</td>\n      <td>0.60</td>\n      <td>best-value</td>\n      <td>64</td>\n      <td>1.000</td>\n    </tr>\n    <tr>\n      <th>4</th>\n      <td>2023-06-04</td>\n      <td>RYAN BRAUN 2007 TRI STAR MLB BASEBALL CERTIFIE...</td>\n      <td>https://www.ebay.com/itm/175712878924?hash=ite...</td>\n      <td>None</td>\n      <td>9.98</td>\n      <td>NaN</td>\n      <td>0.00</td>\n      <td>tgsportscards</td>\n      <td>9389</td>\n      <td>1.000</td>\n    </tr>\n    <tr>\n      <th>...</th>\n      <td>...</td>\n      <td>...</td>\n      <td>...</td>\n      <td>...</td>\n      <td>...</td>\n      <td>...</td>\n      <td>...</td>\n      <td>...</td>\n      <td>...</td>\n      <td>...</td>\n    </tr>\n    <tr>\n      <th>10015</th>\n      <td>2023-06-04</td>\n      <td>2001 Donruss Stat Line Career Anaheim Angels B...</td>\n      <td>https://www.ebay.com/itm/166047453270?epid=140...</td>\n      <td>None</td>\n      <td>2.10</td>\n      <td>NaN</td>\n      <td>0.99</td>\n      <td>burbanksportscards</td>\n      <td>459146</td>\n      <td>0.996</td>\n    </tr>\n    <tr>\n      <th>10016</th>\n      <td>2023-06-04</td>\n      <td>1998 Donruss Gold Press Proofs Anaheim Angels ...</td>\n      <td>https://www.ebay.com/itm/314549288780?hash=ite...</td>\n      <td>None</td>\n      <td>4.80</td>\n      <td>NaN</td>\n      <td>0.99</td>\n      <td>burbanksportscards</td>\n      <td>459146</td>\n      <td>0.996</td>\n    </tr>\n    <tr>\n      <th>10017</th>\n      <td>2023-06-04</td>\n      <td>1997 Circa Rave California Angels Baseball Car...</td>\n      <td>https://www.ebay.com/itm/314549469284?hash=ite...</td>\n      <td>None</td>\n      <td>9.60</td>\n      <td>NaN</td>\n      <td>0.99</td>\n      <td>burbanksportscards</td>\n      <td>459146</td>\n      <td>0.996</td>\n    </tr>\n    <tr>\n      <th>10018</th>\n      <td>2023-06-04</td>\n      <td>1998 Studio Gold Press Proofs Anaheim Angels B...</td>\n      <td>https://www.ebay.com/itm/363442394798?hash=ite...</td>\n      <td>None</td>\n      <td>2.50</td>\n      <td>NaN</td>\n      <td>0.99</td>\n      <td>burbanksportscards</td>\n      <td>459146</td>\n      <td>0.996</td>\n    </tr>\n    <tr>\n      <th>10019</th>\n      <td>2023-06-04</td>\n      <td>2006 Topps '52 Chrome Refractors Angels Baseba...</td>\n      <td>https://www.ebay.com/itm/364226903432?hash=ite...</td>\n      <td>None</td>\n      <td>3.00</td>\n      <td>NaN</td>\n      <td>0.99</td>\n      <td>burbanksportscards</td>\n      <td>459146</td>\n      <td>0.996</td>\n    </tr>\n  </tbody>\n</table>\n<p>10020 rows × 10 columns</p>\n</div>"
     },
     "execution_count": 32,
     "metadata": {},
     "output_type": "execute_result"
    }
   ],
   "source": [
    "df_ebay = pd.read_json('../output/ebay_baseball_spider_20230604.json')\n",
    "df_ebay['price'] = df_ebay['price'].str.replace('[\\$,]', '', regex=True).astype(float)\n",
    "df_ebay['date_sold'] = pd.to_datetime(df_ebay['date_sold'])\n",
    "df_ebay['num_bids'] = df_ebay['num_bids'].str.extract('(\\d+)', expand=False).astype(float)\n",
    "df_ebay['seller_num_reviews'] = df_ebay['seller_num_reviews'].str.replace(',', '').astype(int)\n",
    "df_ebay['seller_pct_positive_feedback'] = df_ebay['seller_pct_positive_feedback'].str.replace('%', '').astype(float) / 100\n",
    "\n",
    "df_ebay['shipping'] = df_ebay['shipping'].replace(['Free Shipping', 'Free shipping', None], '+$0.00 Shipping')\n",
    "df_ebay['shipping'] = df_ebay['shipping'].str.replace('\\+\\$(\\d+\\.\\d+).*', r'\\1', regex=True).astype(float)\n",
    "\n",
    "df_ebay"
   ],
   "metadata": {
    "collapsed": false,
    "ExecuteTime": {
     "end_time": "2023-06-06T02:54:20.176752Z",
     "start_time": "2023-06-06T02:54:20.067748Z"
    }
   }
  },
  {
   "cell_type": "code",
   "execution_count": 32,
   "outputs": [],
   "source": [],
   "metadata": {
    "collapsed": false,
    "ExecuteTime": {
     "end_time": "2023-06-06T02:54:20.178514Z",
     "start_time": "2023-06-06T02:54:20.177107Z"
    }
   }
  }
 ],
 "metadata": {
  "kernelspec": {
   "display_name": "Python 3",
   "language": "python",
   "name": "python3"
  },
  "language_info": {
   "codemirror_mode": {
    "name": "ipython",
    "version": 2
   },
   "file_extension": ".py",
   "mimetype": "text/x-python",
   "name": "python",
   "nbconvert_exporter": "python",
   "pygments_lexer": "ipython2",
   "version": "2.7.6"
  }
 },
 "nbformat": 4,
 "nbformat_minor": 0
}
